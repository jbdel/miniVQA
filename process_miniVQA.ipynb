{
  "nbformat": 4,
  "nbformat_minor": 0,
  "metadata": {
    "colab": {
      "name": "process_miniVQA.ipynb",
      "provenance": [],
      "collapsed_sections": [],
      "toc_visible": true
    },
    "kernelspec": {
      "name": "python3",
      "display_name": "Python 3"
    },
    "accelerator": "GPU"
  },
  "cells": [
    {
      "cell_type": "markdown",
      "metadata": {
        "id": "TbzBKP0AnSmu"
      },
      "source": [
        "<center><b><h1>MiniVQA</h1></b></center>\n",
        "\n",
        "\n",
        "**MiniVQA** is based on the VQA dataset [1] using microsoft COCO images [2]\n",
        "\n",
        "[1] Goyal, Y., Khot, T., Summers-Stay, D., Batra, D., & Parikh, D. (2017). Making the v in vqa matter: Elevating the role of image understanding in visual question answering. In Proceedings of the IEEE Conference on Computer Vision and Pattern Recognition (pp. 6904-6913).\n",
        "\n",
        "[2] Lin, T. Y., Maire, M., Belongie, S., Hays, J., Perona, P., Ramanan, D., ... & Zitnick, C. L. (2014, September). Microsoft coco: Common objects in context. In European conference on computer vision (pp. 740-755). Springer, Cham.\n",
        "\n",
        "**Python 3.7.10**"
      ]
    },
    {
      "cell_type": "markdown",
      "metadata": {
        "id": "84Xbs7q_oEXk"
      },
      "source": [
        "# Step 1. Downloading VQA annotations (questions and answers)"
      ]
    },
    {
      "cell_type": "code",
      "metadata": {
        "id": "WcQqgNzAVBQY"
      },
      "source": [
        "!wget https://s3.amazonaws.com/cvmlp/vqa/mscoco/vqa/v2_Annotations_Train_mscoco.zip && unzip v2_Annotations_Train_mscoco && \\\n",
        "wget https://s3.amazonaws.com/cvmlp/vqa/mscoco/vqa/v2_Questions_Train_mscoco.zip && unzip v2_Questions_Train_mscoco"
      ],
      "execution_count": null,
      "outputs": []
    },
    {
      "cell_type": "code",
      "metadata": {
        "id": "JepKGixXrVka"
      },
      "source": [
        "import os\n",
        "import ssl\n",
        "ssl._create_default_https_context = ssl._create_unverified_context\n",
        "import json\n",
        "import copy\n",
        "import glob\n",
        "import torch\n",
        "import random\n",
        "import operator\n",
        "import numpy as np\n",
        "import urllib.request\n",
        "import matplotlib.pyplot as plt\n",
        "\n",
        "\n",
        "from PIL import Image\n",
        "from tqdm import tqdm\n",
        "from google.colab import files\n",
        "from numpy.random import choice\n",
        "from sklearn.manifold import TSNE\n",
        "from collections import Counter, defaultdict\n"
      ],
      "execution_count": 3,
      "outputs": []
    },
    {
      "cell_type": "markdown",
      "metadata": {
        "id": "4t2LIzxhoLXs"
      },
      "source": [
        "# Step 2. Unpacking questions"
      ]
    },
    {
      "cell_type": "code",
      "metadata": {
        "id": "MXDmIBqLVklD",
        "colab": {
          "base_uri": "https://localhost:8080/"
        },
        "outputId": "64b207ae-73fe-4666-d096-1c88cd589404"
      },
      "source": [
        "annotations = json.load(open(\"v2_mscoco_train2014_annotations.json\"))\n",
        "questions = json.load(open(\"v2_OpenEnded_mscoco_train2014_questions.json\"))\n",
        "\n",
        "annotations = annotations['annotations']\n",
        "questions_id = {q['question_id']: q['question'] for q in questions['questions']}\n",
        "\n",
        "assert len(annotations) == len(questions_id)\n",
        "print(len(questions_id), 'questions available')"
      ],
      "execution_count": 4,
      "outputs": [
        {
          "output_type": "stream",
          "text": [
            "443757 questions available\n"
          ],
          "name": "stdout"
        }
      ]
    },
    {
      "cell_type": "code",
      "metadata": {
        "id": "MIQyQctYGl13"
      },
      "source": [
        "# Printing 5 random examples \r\n",
        "plt.figure(figsize=([30, 20]))\r\n",
        "for i in range(5):\r\n",
        "  plt.subplot(1, 5, i+1)\r\n",
        "  ann = random.choice(list(annotations))\r\n",
        "  filename = 'COCO_train2014_'+ str(ann['image_id']).zfill(12) + '.jpg'\r\n",
        "  src = os.path.join('https://vqa_mscoco_images.s3.amazonaws.com/train2014/', filename)\r\n",
        "  trg = os.path.join('/tmp', filename)\r\n",
        "  if not os.path.exists(trg):\r\n",
        "    urllib.request.urlretrieve(src, trg)\r\n",
        "  plt.imshow(Image.open(trg).resize((128,128)))\r\n",
        "  plt.xlabel('image_id: '+ str(ann['image_id']))\r\n",
        "  plt.title(questions_id[ann['question_id']])"
      ],
      "execution_count": null,
      "outputs": []
    },
    {
      "cell_type": "markdown",
      "metadata": {
        "id": "RRsjbN-iokaJ"
      },
      "source": [
        "# Step 3. Group questions by answers "
      ]
    },
    {
      "cell_type": "code",
      "metadata": {
        "id": "NvPOKU4XVtU2"
      },
      "source": [
        "questions_by_answer_type = defaultdict(list)\n",
        "\n",
        "# Get most frequent answer amongst annotators \n",
        "def get_top_answer(answers):\n",
        "  count_answers = Counter([answer['answer'] for answer in annotation['answers']])\n",
        "  top_answer, _ = count_answers.most_common()[0]\n",
        "  return top_answer\n",
        "\n",
        "# Iterate through annotations\n",
        "# Stack questions\n",
        "for annotation in tqdm(annotations, position=0, leave=True):\n",
        "  question_id =  annotation['question_id']\n",
        "  image_id =  annotation['image_id']\n",
        "  top_answer = get_top_answer(annotation['answers'])\n",
        "  questions_by_answer_type[top_answer].append([questions_id[question_id], int(image_id), int(question_id)])\n",
        "\n",
        "# we discard answers with less than 3 samples. We want at least one sample per slip (train,val,test)\n",
        "answers_population = Counter({a:len(q) for a, q in questions_by_answer_type.items() if len(q) > 3})\n",
        "num_unique_answers = len(answers_population)\n",
        "print('\\n', num_unique_answers, 'unique answers')"
      ],
      "execution_count": null,
      "outputs": []
    },
    {
      "cell_type": "markdown",
      "metadata": {
        "id": "TVchlixMoqGl"
      },
      "source": [
        "# Step 4. Decide the volume of your dataset\n",
        "\n",
        "1. select **num_answers**, the number of possible different answers (i.e. how many classes)\n",
        "2. select the **sampling_type** to choose answers (\"top\" to get the '*num_answers*' most common answers, or \"random\")  \n",
        "3. you can choose to exclude the n most popular answers with **sampling_exclude_top** (the most popular answers is \"no\" and contains 80.000 questions). You can do the same, for bottom answers, with **sampling_exclude_bottom**.\n",
        "4. if *sampling_type* is random, you can choose a minimum and maximum number of questions with **min_samples** and **max_samples**"
      ]
    },
    {
      "cell_type": "code",
      "metadata": {
        "id": "optref5vw8vt"
      },
      "source": [
        "num_answers = 100\n",
        "sampling_type = \"random\" # choose between top or random\n",
        "sampling_exclude_top = 50\n",
        "sampling_exclude_bottom = 50\n",
        "min_samples = 3000\n",
        "max_samples = 4000"
      ],
      "execution_count": 7,
      "outputs": []
    },
    {
      "cell_type": "markdown",
      "metadata": {
        "id": "kKIqa2tMw9i-"
      },
      "source": [
        "After adjusting parameters, run the following cell to display the results.\n",
        "Restart the cell to generate new results."
      ]
    },
    {
      "cell_type": "code",
      "metadata": {
        "id": "j_AaMkdVoyD9"
      },
      "source": [
        "def get_answers(num_answers, sampling_type, min_samples, sampling_exclude_top):\n",
        "\n",
        "  assert (num_unique_answers - sampling_exclude_top) > num_answers, \"too big sampling_exclude_top, not enough answer left for num_answers\"\n",
        "  assert min_samples < max_samples\n",
        "\n",
        "  top = answers_population.most_common()\n",
        "  top_answers = [a[0] for a in top]\n",
        "\n",
        "  if sampling_type == 'top':\n",
        "    answers = top_answers[sampling_exclude_top:num_answers + sampling_exclude_top]\n",
        "    max_possible_samples = [answers_population[a] for a in answers]\n",
        "\n",
        "  elif sampling_type == 'random':\n",
        "\n",
        "    # select random answers\n",
        "    rand_index = random.sample(range(sampling_exclude_top, num_unique_answers), num_answers)\n",
        "    answers = [top_answers[r] for r in rand_index]\n",
        "\n",
        "    # compute the number of samples available\n",
        "    max_possible_samples = [answers_population[a] for a in answers]\n",
        "\n",
        "    swaps = 0\n",
        "    pbar = tqdm(10000, position=0, leave=True)\n",
        "    while sum(max_possible_samples) < min_samples or sum(max_possible_samples) > max_samples:\n",
        "      a = random.choice(answers)\n",
        "      index = top_answers.index(a)\n",
        "\n",
        "      if sum(max_possible_samples) < min_samples:\n",
        "        # Feting a response with higher population\n",
        "        min_index = sampling_exclude_top\n",
        "        if index <= sampling_exclude_top: #cant do better\n",
        "          continue\n",
        "        new_answer = top_answers[random.randint(min_index, index-1)] \n",
        "      else:\n",
        "        # Feting a response with lower population\n",
        "        max_index = len(top_answers) - sampling_exclude_bottom\n",
        "        if index >= max_index: #cant do better\n",
        "          continue\n",
        "        new_answer = top_answers[random.randint(index+1, max_index)]\n",
        "\n",
        "      if new_answer in answers: # already have this answer\n",
        "        continue\n",
        "\n",
        "      answers.remove(a)\n",
        "      answers.append(new_answer)\n",
        "\n",
        "      # update num of samples\n",
        "      max_possible_samples = [answers_population[a] for a in answers]\n",
        "\n",
        "      swaps +=1\n",
        "      if swaps == int(10e3):\n",
        "        raise StopIteration(\"Too much iterations, it possible there is no configuration for your scenario\")\n",
        "      pbar.update(1)\n",
        "      pbar.set_description('current_samples:{}'.format(sum(max_possible_samples)))\n",
        "    print(\"\\ndone!\")\n",
        "  else:\n",
        "    raise NotImplementedError()\n",
        "  dataset = {a:q for a, q in questions_by_answer_type.items() if a in answers}\n",
        "  return dataset, answers, max_possible_samples\n",
        "\n",
        "\n",
        "dataset, answers, max_possible_samples = get_answers(num_answers, sampling_type, min_samples, sampling_exclude_top)\n",
        "\n",
        "assert len(set(answers)) == num_answers, \"Something went wrong, let's try again\"\n",
        "\n",
        "\n",
        "# Print results\n",
        "print(\"Chosen answers:\",answers)\n",
        "print(\"Num samples:\", sum(max_possible_samples))\n",
        "print(\"Labels distribution:\")\n",
        "\n",
        "plt.bar(range(num_answers), max_possible_samples)\n",
        "plt.show()\n",
        "print(Counter({a:len(q) for a, q in dataset.items()}).most_common())\n",
        "print('\\nUnhappy ? restart cell...')\n"
      ],
      "execution_count": null,
      "outputs": []
    },
    {
      "cell_type": "markdown",
      "metadata": {
        "id": "EQKIUy3EghIA"
      },
      "source": [
        "# Step 5. Create dataset files\n",
        "\n",
        "\n",
        "1.   **Samples clipping** : Set to select maximum n samples per answer\n",
        "2.   **im_download**: You can choose to download images directly through http request. This process might be slow if you picked a lot of samples. Might as well get a cup of coffee."
      ]
    },
    {
      "cell_type": "code",
      "metadata": {
        "id": "TwgHQuslhiKW"
      },
      "source": [
        "im_download=False\n",
        "sample_clipping=False # false for no clipping"
      ],
      "execution_count": 10,
      "outputs": []
    },
    {
      "cell_type": "code",
      "metadata": {
        "id": "GDy7a4gib70R"
      },
      "source": [
        "image_question = defaultdict(list)\n",
        "label_question = defaultdict(list)\n",
        "question_label = {}\n",
        "answer_list = list(dataset.keys())\n",
        "\n",
        "im_dir = \"data/images\"\n",
        "os.makedirs(im_dir, exist_ok=True)\n",
        "pbar = tqdm(dataset.items(), position=0, leave=True)\n",
        "for answer, questions in pbar:\n",
        "  if sample_clipping:\n",
        "    questions = questions[:sample_clipping]\n",
        "\n",
        "  for i, q in enumerate(questions):\n",
        "    question, image_id, question_id = q\n",
        "    if im_download:\n",
        "      filename = 'COCO_train2014_'+ str(image_id).zfill(12) + '.jpg'\n",
        "      pbar.set_description(\"Downloading images for answer {} [{}/{}] {}\".format(answer, i, len(questions), filename))\n",
        "      src = os.path.join('https://vqa_mscoco_images.s3.amazonaws.com/train2014/', filename)\n",
        "      trg = os.path.join(im_dir, filename)\n",
        "      if not os.path.exists(trg):\n",
        "        urllib.request.urlretrieve(src, trg)\n",
        "\n",
        "    # Filling dict\n",
        "    image_question[image_id].append((question_id, question))\n",
        "    label_question[answer].append(question_id)\n",
        "    question_label[question_id] = answer_list.index(answer)\n",
        "  \n",
        "print('\\n')\n",
        "print(len(image_question), 'images for', len(question_label), 'questions')\n",
        "\n",
        "print('five samples of image_question', list(image_question.items())[:5])\n",
        "print('five samples of question_label', list(question_label.items())[:5])\n",
        "print('five samples of label_question', list(label_question.items())[:5])\n",
        "\n"
      ],
      "execution_count": null,
      "outputs": []
    },
    {
      "cell_type": "markdown",
      "metadata": {
        "id": "a0GNEkA2wedh"
      },
      "source": [
        "# Step 6 (optional). Resize images\n",
        "\n",
        "For your mini-VQA project, you might want to use lower resolution for your images (faster training).\n",
        "\n",
        "1.   **resize** : Squared resize of n pixels"
      ]
    },
    {
      "cell_type": "code",
      "metadata": {
        "id": "IKY1FcIRq-Sy"
      },
      "source": [
        "resize = 128"
      ],
      "execution_count": 10,
      "outputs": []
    },
    {
      "cell_type": "code",
      "metadata": {
        "id": "xH0LWUGA3EWJ"
      },
      "source": [
        "im_dir = \"data/images\"\n",
        "outdir = \"data/images_resized\"\n",
        "os.makedirs(outdir, exist_ok=True)\n",
        "\n",
        "images = glob.glob(os.path.join(im_dir, '*'))\n",
        "for im in tqdm(images, position=0, leave=True):\n",
        "  try:\n",
        "    im_resized = os.path.basename(im).replace(\".jpg\", \"_resized.jpg\")\n",
        "    image = Image.open(im)\n",
        "    image = image.resize((resize,resize), Image.ANTIALIAS)\n",
        "    image.save(os.path.join(outdir, im_resized), \"JPEG\")\n",
        "  except Exception as e:\n",
        "    print(e)\n",
        "    print(\"Its possible the image is corrupted, re-download it\")\n",
        "    raise\n"
      ],
      "execution_count": null,
      "outputs": []
    },
    {
      "cell_type": "markdown",
      "metadata": {
        "id": "PGPr3dJaqQzr"
      },
      "source": [
        "# Step 7. Explore the question embedding space\r\n",
        "Compute embeddings using a pretrained bert-base-nli-mean-tokens. Feel free to change the model.\r\n"
      ]
    },
    {
      "cell_type": "code",
      "metadata": {
        "id": "6dxuDY-AxaB9"
      },
      "source": [
        "!pip install sentence_transformers"
      ],
      "execution_count": null,
      "outputs": []
    },
    {
      "cell_type": "code",
      "metadata": {
        "id": "orKgMh9XqX3C"
      },
      "source": [
        "from sentence_transformers import SentenceTransformer\r\n",
        "print(\"Computing embeddings of selected questions\")\r\n",
        "model = SentenceTransformer('bert-base-nli-mean-tokens').cuda().eval() \r\n",
        "\r\n",
        "qs = [q[1] for  _, v in image_question.items() for q in v]\r\n",
        "ids = [q[0] for  _, v in image_question.items() for q in v]\r\n",
        "at = {ann['question_id']:ann['question_type'] for ann in annotations}\r\n",
        "\r\n",
        "sentence_embeddings = []\r\n",
        "ans_type = []\r\n",
        "for q, id in tqdm(zip(qs, ids), position=0, leave=True, total=len(qs)):\r\n",
        "  with torch.no_grad():\r\n",
        "    sentence_embeddings.append(model.encode(q))\r\n",
        "  ans_type.append(at[id])\r\n",
        "    \r\n",
        "sentence_embeddings = np.array(sentence_embeddings)\r\n",
        "ans_type = np.array(ans_type)\r\n",
        "\r\n",
        "# # Reduce dimension\r\n",
        "sentence_embeddings = np.array(sentence_embeddings)\r\n",
        "viz = TSNE(n_components=2, n_jobs=4, verbose=1, n_iter=2000)\r\n",
        "embeddings = viz.fit_transform(sentence_embeddings)"
      ],
      "execution_count": null,
      "outputs": []
    },
    {
      "cell_type": "code",
      "metadata": {
        "id": "Z7xI69G70aCy"
      },
      "source": [
        "# Plotting\r\n",
        "fig = plt.figure()\r\n",
        "best_q_type = [k[0] for k in Counter(ans_type).most_common(5)]\r\n",
        "random_q_type = random.sample(set(ans_type), 5)\r\n",
        "plt.figure(figsize=([10, 5]))\r\n",
        "for i, q_type in enumerate([best_q_type, random_q_type]):\r\n",
        "  plt.subplot(1, 2, i+1)\r\n",
        "  for g in q_type:\r\n",
        "      ix = np.where(ans_type == g)\r\n",
        "      plt.scatter(embeddings[ix, 0], embeddings[ix, 1], s=0.1,\r\n",
        "                  cmap='Spectral', label=g)\r\n",
        "  plt.legend(markerscale=10, loc='lower left')\r\n",
        "plt.title(\"Questions embeddings per question_type (left popular, right random)\")\r\n",
        "plt.show()"
      ],
      "execution_count": null,
      "outputs": []
    },
    {
      "cell_type": "markdown",
      "metadata": {
        "id": "3Uu7lmN8wwNt"
      },
      "source": [
        "# Step 8. Create split\n",
        "\n",
        "1. You can choose train and validation size, rest is test\n",
        "2. You can choose whether labels are homogeneously distributed across splits by setting **balanced** to True. False otherwise. \n"
      ]
    },
    {
      "cell_type": "code",
      "metadata": {
        "id": "UnhhioYpxJsa"
      },
      "source": [
        "train_size = 0.8\n",
        "val_size = 0.1\n",
        "balanced = True"
      ],
      "execution_count": 16,
      "outputs": []
    },
    {
      "cell_type": "code",
      "metadata": {
        "id": "fBmG65Sm6-0R"
      },
      "source": [
        "assert sum([train_size, val_size]) < 1.0\n",
        "\n",
        "train = []\n",
        "val = []\n",
        "test = []\n",
        "\n",
        "lq = copy.deepcopy(label_question)\n",
        "\n",
        "# put at least one sample of each answer in each split\n",
        "for _, v in  lq.items():\n",
        "  random.shuffle(v)    \n",
        "  train.append(v.pop())\n",
        "  val.append(v.pop())\n",
        "  test.append(v.pop())\n",
        "\n",
        "if balanced:\n",
        "  # generating balanced splits, for each label, put the requested balance in splits\n",
        "  for _, v in  lq.items():\n",
        "    random.shuffle(v)\n",
        "    num_samples = len(v)\n",
        "    train += (v[:int(train_size*num_samples)])\n",
        "    val   += (v[int(train_size*num_samples):int((train_size+val_size)*num_samples)])\n",
        "    test  += (v[int((train_size+val_size)*num_samples):])\n",
        "else:\n",
        "    all_qid = [item for _, v in lq.items() for item in v]\n",
        "    labels = list(lq.keys())\n",
        "    num_samples = len(all_qid)\n",
        "\n",
        "    random_weights = np.random.random(len(labels))\n",
        "\n",
        "    while len(val) < int(val_size*num_samples):\n",
        "      label_drawn = choice(labels, 1, p=random_weights/random_weights.sum())\n",
        "      sample = random.choice(lq[label_drawn[0]])\n",
        "      if sample in all_qid:\n",
        "        val.append(sample)\n",
        "        all_qid.remove(sample)\n",
        "\n",
        "    random_weights = np.random.random(len(labels))\n",
        "\n",
        "    while len(test) < int((1-(val_size+train_size))*num_samples):\n",
        "      label_drawn = choice(labels, 1, p=random_weights/random_weights.sum())\n",
        "      sample = random.choice(lq[label_drawn[0]])\n",
        "      if sample in all_qid:\n",
        "        test.append(sample)\n",
        "        all_qid.remove(sample)\n",
        "    \n",
        "    train += all_qid\n",
        "\n",
        "random.shuffle(train)\n",
        "random.shuffle(val)\n",
        "random.shuffle(test)\n",
        "\n",
        "# assert no duplicates\n",
        "assert len(set(train + val + test)) == (len(train) + len(val) + len(test))\n",
        "\n",
        "for i, name in enumerate(['train', 'val', 'test']):\n",
        "  split = eval(name)\n",
        "  label_count = Counter()\n",
        "  for q in split:\n",
        "    label_count[question_label[q]] += 1\n",
        "  plt.subplot(1, 3, i+1)\n",
        "  plt.bar(range(len(label_count)), [label_count[i] for i in range(len(label_count))])\n",
        "  plt.xlabel(\"label\")\n",
        "  plt.ylabel(\"count\")\n",
        "  plt.title(name)\n",
        "\n",
        "plt.tight_layout()\n",
        "print(\"Label repartition across splits\")\n",
        "plt.show()"
      ],
      "execution_count": null,
      "outputs": []
    },
    {
      "cell_type": "markdown",
      "metadata": {
        "id": "HYCgpRa070oD"
      },
      "source": [
        "# Last Step: download files\n",
        "\n",
        "1. **test.csv** must be given to students. They have to fill it with their prediction formatted like **sample_submission.csv** which contains random predictions\n",
        "2. **answer_key.csv** is the ground-truth file that has to be stored on kaggle\n",
        "3. **answer_list.csv** maps the label to the answer in natural language (i.e. label 0 is answer at line 1 in answer_list, etc.)\n",
        "3. **image_question.json** maps an image_id to a list of questions (that concerns image_id). Each question is a tuple (question_id, question). <br/>\n",
        "To map an image_id to its corresponding image_file, do :\n",
        "```\n",
        "COCO_train2014_'+ str(image_id).zfill(12) + '.jpg\n",
        "```\n",
        "\n"
      ]
    },
    {
      "cell_type": "code",
      "metadata": {
        "id": "VlClqvhn1n1s",
        "colab": {
          "base_uri": "https://localhost:8080/",
          "height": 17
        },
        "outputId": "698c1e3a-a192-4111-af99-d5c1725e011a"
      },
      "source": [
        "for fn, ids in [[\"train.csv\", train], [\"val.csv\", val], [\"test.csv\", test], [\"answer_key.csv\", test], [\"sample_submission.csv\", test]]:\n",
        "  lines = []\n",
        "  for id in ids:\n",
        "    # for sample_submission, choose random label\n",
        "    if 'sample_submission' in fn:\n",
        "      lines.append(str(id) +','+str(random.randint(0, len(label_question.keys())-1)))\n",
        "    # for test.csv, dont print label\n",
        "    elif 'test' in fn:\n",
        "      lines.append(str(id))\n",
        "    else:\n",
        "      lines.append(str(id) +','+str(question_label[id]))\n",
        "  \n",
        "  open(fn, \"w+\").write('question_id,label\\n'+'\\n'.join(map(str, lines)))\n",
        "  files.download(fn) \n",
        "\n",
        "\n",
        "open(\"answer_list.txt\", \"w+\").write('\\n'.join(map(str, answer_list)))\n",
        "files.download('answer_list.txt') \n",
        "\n",
        "json.dump(image_question, open('image_question.json', 'w'))\n",
        "files.download('image_question.json') "
      ],
      "execution_count": 18,
      "outputs": [
        {
          "output_type": "display_data",
          "data": {
            "application/javascript": [
              "\n",
              "    async function download(id, filename, size) {\n",
              "      if (!google.colab.kernel.accessAllowed) {\n",
              "        return;\n",
              "      }\n",
              "      const div = document.createElement('div');\n",
              "      const label = document.createElement('label');\n",
              "      label.textContent = `Downloading \"${filename}\": `;\n",
              "      div.appendChild(label);\n",
              "      const progress = document.createElement('progress');\n",
              "      progress.max = size;\n",
              "      div.appendChild(progress);\n",
              "      document.body.appendChild(div);\n",
              "\n",
              "      const buffers = [];\n",
              "      let downloaded = 0;\n",
              "\n",
              "      const channel = await google.colab.kernel.comms.open(id);\n",
              "      // Send a message to notify the kernel that we're ready.\n",
              "      channel.send({})\n",
              "\n",
              "      for await (const message of channel.messages) {\n",
              "        // Send a message to notify the kernel that we're ready.\n",
              "        channel.send({})\n",
              "        if (message.buffers) {\n",
              "          for (const buffer of message.buffers) {\n",
              "            buffers.push(buffer);\n",
              "            downloaded += buffer.byteLength;\n",
              "            progress.value = downloaded;\n",
              "          }\n",
              "        }\n",
              "      }\n",
              "      const blob = new Blob(buffers, {type: 'application/binary'});\n",
              "      const a = document.createElement('a');\n",
              "      a.href = window.URL.createObjectURL(blob);\n",
              "      a.download = filename;\n",
              "      div.appendChild(a);\n",
              "      a.click();\n",
              "      div.remove();\n",
              "    }\n",
              "  "
            ],
            "text/plain": [
              "<IPython.core.display.Javascript object>"
            ]
          },
          "metadata": {
            "tags": []
          }
        },
        {
          "output_type": "display_data",
          "data": {
            "application/javascript": [
              "download(\"download_6ab38714-ace6-4bca-b036-23f3c7133409\", \"train.csv\", 27388)"
            ],
            "text/plain": [
              "<IPython.core.display.Javascript object>"
            ]
          },
          "metadata": {
            "tags": []
          }
        },
        {
          "output_type": "display_data",
          "data": {
            "application/javascript": [
              "\n",
              "    async function download(id, filename, size) {\n",
              "      if (!google.colab.kernel.accessAllowed) {\n",
              "        return;\n",
              "      }\n",
              "      const div = document.createElement('div');\n",
              "      const label = document.createElement('label');\n",
              "      label.textContent = `Downloading \"${filename}\": `;\n",
              "      div.appendChild(label);\n",
              "      const progress = document.createElement('progress');\n",
              "      progress.max = size;\n",
              "      div.appendChild(progress);\n",
              "      document.body.appendChild(div);\n",
              "\n",
              "      const buffers = [];\n",
              "      let downloaded = 0;\n",
              "\n",
              "      const channel = await google.colab.kernel.comms.open(id);\n",
              "      // Send a message to notify the kernel that we're ready.\n",
              "      channel.send({})\n",
              "\n",
              "      for await (const message of channel.messages) {\n",
              "        // Send a message to notify the kernel that we're ready.\n",
              "        channel.send({})\n",
              "        if (message.buffers) {\n",
              "          for (const buffer of message.buffers) {\n",
              "            buffers.push(buffer);\n",
              "            downloaded += buffer.byteLength;\n",
              "            progress.value = downloaded;\n",
              "          }\n",
              "        }\n",
              "      }\n",
              "      const blob = new Blob(buffers, {type: 'application/binary'});\n",
              "      const a = document.createElement('a');\n",
              "      a.href = window.URL.createObjectURL(blob);\n",
              "      a.download = filename;\n",
              "      div.appendChild(a);\n",
              "      a.click();\n",
              "      div.remove();\n",
              "    }\n",
              "  "
            ],
            "text/plain": [
              "<IPython.core.display.Javascript object>"
            ]
          },
          "metadata": {
            "tags": []
          }
        },
        {
          "output_type": "display_data",
          "data": {
            "application/javascript": [
              "download(\"download_a82f312f-1d42-4dfa-a4c3-5048326a3312\", \"val.csv\", 4480)"
            ],
            "text/plain": [
              "<IPython.core.display.Javascript object>"
            ]
          },
          "metadata": {
            "tags": []
          }
        },
        {
          "output_type": "display_data",
          "data": {
            "application/javascript": [
              "\n",
              "    async function download(id, filename, size) {\n",
              "      if (!google.colab.kernel.accessAllowed) {\n",
              "        return;\n",
              "      }\n",
              "      const div = document.createElement('div');\n",
              "      const label = document.createElement('label');\n",
              "      label.textContent = `Downloading \"${filename}\": `;\n",
              "      div.appendChild(label);\n",
              "      const progress = document.createElement('progress');\n",
              "      progress.max = size;\n",
              "      div.appendChild(progress);\n",
              "      document.body.appendChild(div);\n",
              "\n",
              "      const buffers = [];\n",
              "      let downloaded = 0;\n",
              "\n",
              "      const channel = await google.colab.kernel.comms.open(id);\n",
              "      // Send a message to notify the kernel that we're ready.\n",
              "      channel.send({})\n",
              "\n",
              "      for await (const message of channel.messages) {\n",
              "        // Send a message to notify the kernel that we're ready.\n",
              "        channel.send({})\n",
              "        if (message.buffers) {\n",
              "          for (const buffer of message.buffers) {\n",
              "            buffers.push(buffer);\n",
              "            downloaded += buffer.byteLength;\n",
              "            progress.value = downloaded;\n",
              "          }\n",
              "        }\n",
              "      }\n",
              "      const blob = new Blob(buffers, {type: 'application/binary'});\n",
              "      const a = document.createElement('a');\n",
              "      a.href = window.URL.createObjectURL(blob);\n",
              "      a.download = filename;\n",
              "      div.appendChild(a);\n",
              "      a.click();\n",
              "      div.remove();\n",
              "    }\n",
              "  "
            ],
            "text/plain": [
              "<IPython.core.display.Javascript object>"
            ]
          },
          "metadata": {
            "tags": []
          }
        },
        {
          "output_type": "display_data",
          "data": {
            "application/javascript": [
              "download(\"download_7f457793-e465-49da-be3a-75d94203ac82\", \"test.csv\", 4211)"
            ],
            "text/plain": [
              "<IPython.core.display.Javascript object>"
            ]
          },
          "metadata": {
            "tags": []
          }
        },
        {
          "output_type": "display_data",
          "data": {
            "application/javascript": [
              "\n",
              "    async function download(id, filename, size) {\n",
              "      if (!google.colab.kernel.accessAllowed) {\n",
              "        return;\n",
              "      }\n",
              "      const div = document.createElement('div');\n",
              "      const label = document.createElement('label');\n",
              "      label.textContent = `Downloading \"${filename}\": `;\n",
              "      div.appendChild(label);\n",
              "      const progress = document.createElement('progress');\n",
              "      progress.max = size;\n",
              "      div.appendChild(progress);\n",
              "      document.body.appendChild(div);\n",
              "\n",
              "      const buffers = [];\n",
              "      let downloaded = 0;\n",
              "\n",
              "      const channel = await google.colab.kernel.comms.open(id);\n",
              "      // Send a message to notify the kernel that we're ready.\n",
              "      channel.send({})\n",
              "\n",
              "      for await (const message of channel.messages) {\n",
              "        // Send a message to notify the kernel that we're ready.\n",
              "        channel.send({})\n",
              "        if (message.buffers) {\n",
              "          for (const buffer of message.buffers) {\n",
              "            buffers.push(buffer);\n",
              "            downloaded += buffer.byteLength;\n",
              "            progress.value = downloaded;\n",
              "          }\n",
              "        }\n",
              "      }\n",
              "      const blob = new Blob(buffers, {type: 'application/binary'});\n",
              "      const a = document.createElement('a');\n",
              "      a.href = window.URL.createObjectURL(blob);\n",
              "      a.download = filename;\n",
              "      div.appendChild(a);\n",
              "      a.click();\n",
              "      div.remove();\n",
              "    }\n",
              "  "
            ],
            "text/plain": [
              "<IPython.core.display.Javascript object>"
            ]
          },
          "metadata": {
            "tags": []
          }
        },
        {
          "output_type": "display_data",
          "data": {
            "application/javascript": [
              "download(\"download_01275389-15d1-4c1f-af3b-783bfe77ddfe\", \"answer_key.csv\", 5365)"
            ],
            "text/plain": [
              "<IPython.core.display.Javascript object>"
            ]
          },
          "metadata": {
            "tags": []
          }
        },
        {
          "output_type": "display_data",
          "data": {
            "application/javascript": [
              "\n",
              "    async function download(id, filename, size) {\n",
              "      if (!google.colab.kernel.accessAllowed) {\n",
              "        return;\n",
              "      }\n",
              "      const div = document.createElement('div');\n",
              "      const label = document.createElement('label');\n",
              "      label.textContent = `Downloading \"${filename}\": `;\n",
              "      div.appendChild(label);\n",
              "      const progress = document.createElement('progress');\n",
              "      progress.max = size;\n",
              "      div.appendChild(progress);\n",
              "      document.body.appendChild(div);\n",
              "\n",
              "      const buffers = [];\n",
              "      let downloaded = 0;\n",
              "\n",
              "      const channel = await google.colab.kernel.comms.open(id);\n",
              "      // Send a message to notify the kernel that we're ready.\n",
              "      channel.send({})\n",
              "\n",
              "      for await (const message of channel.messages) {\n",
              "        // Send a message to notify the kernel that we're ready.\n",
              "        channel.send({})\n",
              "        if (message.buffers) {\n",
              "          for (const buffer of message.buffers) {\n",
              "            buffers.push(buffer);\n",
              "            downloaded += buffer.byteLength;\n",
              "            progress.value = downloaded;\n",
              "          }\n",
              "        }\n",
              "      }\n",
              "      const blob = new Blob(buffers, {type: 'application/binary'});\n",
              "      const a = document.createElement('a');\n",
              "      a.href = window.URL.createObjectURL(blob);\n",
              "      a.download = filename;\n",
              "      div.appendChild(a);\n",
              "      a.click();\n",
              "      div.remove();\n",
              "    }\n",
              "  "
            ],
            "text/plain": [
              "<IPython.core.display.Javascript object>"
            ]
          },
          "metadata": {
            "tags": []
          }
        },
        {
          "output_type": "display_data",
          "data": {
            "application/javascript": [
              "download(\"download_3b87bfa9-6973-44c4-9bc4-0e301c482704\", \"sample_submission.csv\", 5458)"
            ],
            "text/plain": [
              "<IPython.core.display.Javascript object>"
            ]
          },
          "metadata": {
            "tags": []
          }
        },
        {
          "output_type": "display_data",
          "data": {
            "application/javascript": [
              "\n",
              "    async function download(id, filename, size) {\n",
              "      if (!google.colab.kernel.accessAllowed) {\n",
              "        return;\n",
              "      }\n",
              "      const div = document.createElement('div');\n",
              "      const label = document.createElement('label');\n",
              "      label.textContent = `Downloading \"${filename}\": `;\n",
              "      div.appendChild(label);\n",
              "      const progress = document.createElement('progress');\n",
              "      progress.max = size;\n",
              "      div.appendChild(progress);\n",
              "      document.body.appendChild(div);\n",
              "\n",
              "      const buffers = [];\n",
              "      let downloaded = 0;\n",
              "\n",
              "      const channel = await google.colab.kernel.comms.open(id);\n",
              "      // Send a message to notify the kernel that we're ready.\n",
              "      channel.send({})\n",
              "\n",
              "      for await (const message of channel.messages) {\n",
              "        // Send a message to notify the kernel that we're ready.\n",
              "        channel.send({})\n",
              "        if (message.buffers) {\n",
              "          for (const buffer of message.buffers) {\n",
              "            buffers.push(buffer);\n",
              "            downloaded += buffer.byteLength;\n",
              "            progress.value = downloaded;\n",
              "          }\n",
              "        }\n",
              "      }\n",
              "      const blob = new Blob(buffers, {type: 'application/binary'});\n",
              "      const a = document.createElement('a');\n",
              "      a.href = window.URL.createObjectURL(blob);\n",
              "      a.download = filename;\n",
              "      div.appendChild(a);\n",
              "      a.click();\n",
              "      div.remove();\n",
              "    }\n",
              "  "
            ],
            "text/plain": [
              "<IPython.core.display.Javascript object>"
            ]
          },
          "metadata": {
            "tags": []
          }
        },
        {
          "output_type": "display_data",
          "data": {
            "application/javascript": [
              "download(\"download_c76e8d9b-c79b-4b5e-9f2e-91a4e979e3f9\", \"answer_list.txt\", 811)"
            ],
            "text/plain": [
              "<IPython.core.display.Javascript object>"
            ]
          },
          "metadata": {
            "tags": []
          }
        },
        {
          "output_type": "display_data",
          "data": {
            "application/javascript": [
              "\n",
              "    async function download(id, filename, size) {\n",
              "      if (!google.colab.kernel.accessAllowed) {\n",
              "        return;\n",
              "      }\n",
              "      const div = document.createElement('div');\n",
              "      const label = document.createElement('label');\n",
              "      label.textContent = `Downloading \"${filename}\": `;\n",
              "      div.appendChild(label);\n",
              "      const progress = document.createElement('progress');\n",
              "      progress.max = size;\n",
              "      div.appendChild(progress);\n",
              "      document.body.appendChild(div);\n",
              "\n",
              "      const buffers = [];\n",
              "      let downloaded = 0;\n",
              "\n",
              "      const channel = await google.colab.kernel.comms.open(id);\n",
              "      // Send a message to notify the kernel that we're ready.\n",
              "      channel.send({})\n",
              "\n",
              "      for await (const message of channel.messages) {\n",
              "        // Send a message to notify the kernel that we're ready.\n",
              "        channel.send({})\n",
              "        if (message.buffers) {\n",
              "          for (const buffer of message.buffers) {\n",
              "            buffers.push(buffer);\n",
              "            downloaded += buffer.byteLength;\n",
              "            progress.value = downloaded;\n",
              "          }\n",
              "        }\n",
              "      }\n",
              "      const blob = new Blob(buffers, {type: 'application/binary'});\n",
              "      const a = document.createElement('a');\n",
              "      a.href = window.URL.createObjectURL(blob);\n",
              "      a.download = filename;\n",
              "      div.appendChild(a);\n",
              "      a.click();\n",
              "      div.remove();\n",
              "    }\n",
              "  "
            ],
            "text/plain": [
              "<IPython.core.display.Javascript object>"
            ]
          },
          "metadata": {
            "tags": []
          }
        },
        {
          "output_type": "display_data",
          "data": {
            "application/javascript": [
              "download(\"download_7c8cc00f-91fe-4628-83e9-b81e921219dc\", \"image_question.json\", 176718)"
            ],
            "text/plain": [
              "<IPython.core.display.Javascript object>"
            ]
          },
          "metadata": {
            "tags": []
          }
        }
      ]
    },
    {
      "cell_type": "markdown",
      "metadata": {
        "id": "-lEsh2ey-kGo"
      },
      "source": [
        "If you have downloaded images, download your zip (the folder is data/images or data/images_resized if you resized images)"
      ]
    },
    {
      "cell_type": "code",
      "metadata": {
        "id": "YeA11F85-TRQ"
      },
      "source": [
        "!zip -r -q images.zip data/images_resized"
      ],
      "execution_count": null,
      "outputs": []
    },
    {
      "cell_type": "code",
      "metadata": {
        "colab": {
          "base_uri": "https://localhost:8080/",
          "height": 17
        },
        "id": "NjP8Ab4y-jzt",
        "outputId": "ed4ba46c-b1ae-4834-cf31-30411843e981"
      },
      "source": [
        "files.download(\"images.zip\")"
      ],
      "execution_count": null,
      "outputs": [
        {
          "output_type": "display_data",
          "data": {
            "application/javascript": [
              "\n",
              "    async function download(id, filename, size) {\n",
              "      if (!google.colab.kernel.accessAllowed) {\n",
              "        return;\n",
              "      }\n",
              "      const div = document.createElement('div');\n",
              "      const label = document.createElement('label');\n",
              "      label.textContent = `Downloading \"${filename}\": `;\n",
              "      div.appendChild(label);\n",
              "      const progress = document.createElement('progress');\n",
              "      progress.max = size;\n",
              "      div.appendChild(progress);\n",
              "      document.body.appendChild(div);\n",
              "\n",
              "      const buffers = [];\n",
              "      let downloaded = 0;\n",
              "\n",
              "      const channel = await google.colab.kernel.comms.open(id);\n",
              "      // Send a message to notify the kernel that we're ready.\n",
              "      channel.send({})\n",
              "\n",
              "      for await (const message of channel.messages) {\n",
              "        // Send a message to notify the kernel that we're ready.\n",
              "        channel.send({})\n",
              "        if (message.buffers) {\n",
              "          for (const buffer of message.buffers) {\n",
              "            buffers.push(buffer);\n",
              "            downloaded += buffer.byteLength;\n",
              "            progress.value = downloaded;\n",
              "          }\n",
              "        }\n",
              "      }\n",
              "      const blob = new Blob(buffers, {type: 'application/binary'});\n",
              "      const a = document.createElement('a');\n",
              "      a.href = window.URL.createObjectURL(blob);\n",
              "      a.download = filename;\n",
              "      div.appendChild(a);\n",
              "      a.click();\n",
              "      div.remove();\n",
              "    }\n",
              "  "
            ],
            "text/plain": [
              "<IPython.core.display.Javascript object>"
            ]
          },
          "metadata": {
            "tags": []
          }
        },
        {
          "output_type": "display_data",
          "data": {
            "application/javascript": [
              "download(\"download_0288bf23-9edf-47d8-ad09-c334fd08979b\", \"images.zip\", 1511205)"
            ],
            "text/plain": [
              "<IPython.core.display.Javascript object>"
            ]
          },
          "metadata": {
            "tags": []
          }
        }
      ]
    },
    {
      "cell_type": "markdown",
      "metadata": {
        "id": "kace8p3--66U"
      },
      "source": [
        "### ENJOY"
      ]
    }
  ]
}